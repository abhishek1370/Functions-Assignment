{
  "nbformat": 4,
  "nbformat_minor": 0,
  "metadata": {
    "colab": {
      "provenance": []
    },
    "kernelspec": {
      "name": "python3",
      "display_name": "Python 3"
    },
    "language_info": {
      "name": "python"
    }
  },
  "cells": [
    {
      "cell_type": "markdown",
      "source": [
        "# Theory Question"
      ],
      "metadata": {
        "id": "pAu82-AT9MOO"
      }
    },
    {
      "cell_type": "markdown",
      "source": [
        "1. What is the difference between a function and a method in Python?\n",
        "\n",
        "\n",
        "\n",
        "```\n",
        "Funtion is a block of code that performs a task and can be called independently.\n",
        "```\n",
        "\n",
        "\n",
        "```\n",
        "method is a function that is associated with an object and called on that object.\n",
        "```\n",
        "\n",
        "\n"
      ],
      "metadata": {
        "id": "KwlbLF369RO_"
      }
    },
    {
      "cell_type": "code",
      "source": [
        "#Function\n",
        "def add(a,b):\n",
        "  return a+b"
      ],
      "metadata": {
        "id": "cFrQUoC3_Y11"
      },
      "execution_count": 80,
      "outputs": []
    },
    {
      "cell_type": "code",
      "source": [
        "add(4,5)"
      ],
      "metadata": {
        "colab": {
          "base_uri": "https://localhost:8080/"
        },
        "id": "dvtfps7m_ivO",
        "outputId": "54ca2189-725b-4389-bb30-7c3171741d23"
      },
      "execution_count": 81,
      "outputs": [
        {
          "output_type": "execute_result",
          "data": {
            "text/plain": [
              "9"
            ]
          },
          "metadata": {},
          "execution_count": 81
        }
      ]
    },
    {
      "cell_type": "code",
      "source": [
        "#method\n",
        "class Cal:\n",
        "  def add(self,a,b):\n",
        "    return a+b\n",
        "  def sub(self,i,j):\n",
        "    return i-j"
      ],
      "metadata": {
        "id": "dS6B2KJK_lQK"
      },
      "execution_count": 85,
      "outputs": []
    },
    {
      "cell_type": "code",
      "source": [
        "me=Cal()"
      ],
      "metadata": {
        "id": "WIqpYbVZ_82d"
      },
      "execution_count": 86,
      "outputs": []
    },
    {
      "cell_type": "code",
      "source": [
        "me.add(2,3)"
      ],
      "metadata": {
        "colab": {
          "base_uri": "https://localhost:8080/"
        },
        "id": "KdBsbQQSAGVS",
        "outputId": "966b8867-5d97-4c78-9f21-43ff312a56c5"
      },
      "execution_count": 87,
      "outputs": [
        {
          "output_type": "execute_result",
          "data": {
            "text/plain": [
              "5"
            ]
          },
          "metadata": {},
          "execution_count": 87
        }
      ]
    },
    {
      "cell_type": "markdown",
      "source": [
        "2. Explain the concept of function arguments and parameters in Python.\n",
        "\n",
        "\n",
        "\n",
        "```\n",
        "A variable in the function defination that acts as a placeholder.\n",
        "```\n",
        "\n",
        "\n",
        "```\n",
        "The actual value that is passed to the function when calling it\n",
        "```\n",
        "\n",
        "\n"
      ],
      "metadata": {
        "id": "ZhfGef9kAXEG"
      }
    },
    {
      "cell_type": "code",
      "source": [
        "def add(n,m): #n and m are arguments\n",
        "  return m+n"
      ],
      "metadata": {
        "id": "l_YhtMgQBwCf"
      },
      "execution_count": 88,
      "outputs": []
    },
    {
      "cell_type": "code",
      "source": [
        "add(5,4) #5 and 4 are parameters"
      ],
      "metadata": {
        "colab": {
          "base_uri": "https://localhost:8080/"
        },
        "id": "DmUMHhbBB3g2",
        "outputId": "93a39d2b-f571-474e-b98f-08cd1f47c518"
      },
      "execution_count": 89,
      "outputs": [
        {
          "output_type": "execute_result",
          "data": {
            "text/plain": [
              "9"
            ]
          },
          "metadata": {},
          "execution_count": 89
        }
      ]
    },
    {
      "cell_type": "markdown",
      "source": [
        "3. What are the different ways to define and call a function in Python?\n",
        "\n",
        "\n"
      ],
      "metadata": {
        "id": "a-uzucpoCA8N"
      }
    },
    {
      "cell_type": "code",
      "source": [
        "#ways to define a function\n",
        "def greet(): # basic named function using def keyword\n",
        "  return \"hello Abhishek\"\n",
        "\n",
        "def add(a,b): # function accepts inputs to operate on\n",
        "  return a+b\n",
        "\n",
        "def sub(a,b=0):  #assign default values to parameters\n",
        "  return b-a\n",
        "\n",
        "def num(*args): # accept any number of inputs\n",
        "  print(args)\n",
        "\n",
        "lambda x:x**2 #small one - line unnamed function\n",
        "\n",
        "class Info: # function that belongs to an object/class\n",
        "  def name(self, na):\n",
        "    print(name)"
      ],
      "metadata": {
        "id": "rQaycO0wDoE-"
      },
      "execution_count": 96,
      "outputs": []
    },
    {
      "cell_type": "code",
      "source": [
        "#calling a function\n",
        "greet()\n",
        "\n",
        "add(2,3)\n",
        "\n",
        "add(a=2,b=3)\n",
        "\n",
        "show(*[1,2,3])\n",
        "\n",
        "info(**{\"name\":\"abhishek\"})"
      ],
      "metadata": {
        "colab": {
          "base_uri": "https://localhost:8080/",
          "height": 36
        },
        "id": "5mfNypMgFPAE",
        "outputId": "71321aa2-d0dc-4b04-8f9a-a5f878f7d2e8"
      },
      "execution_count": 92,
      "outputs": [
        {
          "output_type": "execute_result",
          "data": {
            "text/plain": [
              "'hello Abhishek'"
            ],
            "application/vnd.google.colaboratory.intrinsic+json": {
              "type": "string"
            }
          },
          "metadata": {},
          "execution_count": 92
        }
      ]
    },
    {
      "cell_type": "markdown",
      "source": [
        "5. What are iterators in Python and how do they differ from iterables?\n",
        "\n",
        "\n",
        "\n",
        "```\n",
        "iterable: an object that can be looped through\n",
        "```\n",
        "\n",
        "\n",
        "```\n",
        "iterator: An object that does the looping\n",
        "```\n",
        "\n",
        "\n"
      ],
      "metadata": {
        "id": "Xqj6s05vHGM8"
      }
    },
    {
      "cell_type": "code",
      "source": [
        "s=\"abhishek\" #iterable\n",
        "for i in s:\n",
        "  print(i)"
      ],
      "metadata": {
        "colab": {
          "base_uri": "https://localhost:8080/"
        },
        "id": "5CVYukhAIUR4",
        "outputId": "46b0dccc-26a8-4ff3-dcf3-3ffb45c05e8c"
      },
      "execution_count": 100,
      "outputs": [
        {
          "output_type": "stream",
          "name": "stdout",
          "text": [
            "a\n",
            "b\n",
            "h\n",
            "i\n",
            "s\n",
            "h\n",
            "e\n",
            "k\n"
          ]
        }
      ]
    },
    {
      "cell_type": "code",
      "source": [
        "lsi =[1,2,3,4,5]\n",
        "a=iter(lsi) #iterator"
      ],
      "metadata": {
        "id": "ZljEfJSwIe38"
      },
      "execution_count": 101,
      "outputs": []
    },
    {
      "cell_type": "code",
      "source": [
        "a"
      ],
      "metadata": {
        "colab": {
          "base_uri": "https://localhost:8080/"
        },
        "id": "yZlTusCsI6Ez",
        "outputId": "4d1bc797-eba1-48ad-8b27-9915e285ee4d"
      },
      "execution_count": 102,
      "outputs": [
        {
          "output_type": "execute_result",
          "data": {
            "text/plain": [
              "<list_iterator at 0x785491c9eb90>"
            ]
          },
          "metadata": {},
          "execution_count": 102
        }
      ]
    },
    {
      "cell_type": "code",
      "source": [
        "next(a)"
      ],
      "metadata": {
        "colab": {
          "base_uri": "https://localhost:8080/"
        },
        "id": "ikyqeYL4I7ic",
        "outputId": "5adfc482-fdf6-468c-9055-41c1aefc82ab"
      },
      "execution_count": 103,
      "outputs": [
        {
          "output_type": "execute_result",
          "data": {
            "text/plain": [
              "1"
            ]
          },
          "metadata": {},
          "execution_count": 103
        }
      ]
    },
    {
      "cell_type": "markdown",
      "source": [
        "6. Explain the concept of generators in Python and how they are defined.\n",
        "\n",
        "\n",
        "\n",
        "```\n",
        "generators saves memory when executing code. It executes when next object is called.\n",
        "```\n",
        "\n",
        "\n"
      ],
      "metadata": {
        "id": "sWzE2FWPJB1n"
      }
    },
    {
      "cell_type": "code",
      "source": [
        "def num():\n",
        "  for i in range (1,100):\n",
        "    yield i\n"
      ],
      "metadata": {
        "id": "NJekANmKJaXZ"
      },
      "execution_count": 105,
      "outputs": []
    },
    {
      "cell_type": "code",
      "source": [
        "gen= num()"
      ],
      "metadata": {
        "id": "IkR-tShaJzb9"
      },
      "execution_count": 106,
      "outputs": []
    },
    {
      "cell_type": "code",
      "source": [
        "next(gen)"
      ],
      "metadata": {
        "colab": {
          "base_uri": "https://localhost:8080/"
        },
        "id": "NACFc1HbJ3bU",
        "outputId": "a63edb7d-4bf9-4e51-864e-942912e62115"
      },
      "execution_count": 110,
      "outputs": [
        {
          "output_type": "execute_result",
          "data": {
            "text/plain": [
              "4"
            ]
          },
          "metadata": {},
          "execution_count": 110
        }
      ]
    },
    {
      "cell_type": "markdown",
      "source": [
        "7. What are the advantages of using generators over regular functions?\n",
        "\n",
        "\n",
        "\n",
        "```\n",
        "It saves memory when code is executing.\n",
        "```\n",
        "\n"
      ],
      "metadata": {
        "id": "csQtvbJMJ7Pt"
      }
    },
    {
      "cell_type": "markdown",
      "source": [
        "8. What is a lambda function in Python and when is it typically used?\n",
        "\n",
        "```\n",
        "lambda function is nameless function. It is also a one- line function.\n",
        "```\n",
        "\n"
      ],
      "metadata": {
        "id": "GClO_7JOKcrg"
      }
    },
    {
      "cell_type": "code",
      "source": [
        "is_even=lambda x: x%2==0"
      ],
      "metadata": {
        "id": "3cfbJBclKwcj"
      },
      "execution_count": 129,
      "outputs": []
    },
    {
      "cell_type": "code",
      "source": [
        "is_even(3)"
      ],
      "metadata": {
        "colab": {
          "base_uri": "https://localhost:8080/"
        },
        "id": "YygSmdLKLLBr",
        "outputId": "3ca58bc1-93ce-49c9-ff5f-a0ed0c8dd8e8"
      },
      "execution_count": 130,
      "outputs": [
        {
          "output_type": "execute_result",
          "data": {
            "text/plain": [
              "False"
            ]
          },
          "metadata": {},
          "execution_count": 130
        }
      ]
    },
    {
      "cell_type": "markdown",
      "source": [
        "9. Explain the purpose and usage of the `map()` function in Python.\n",
        "\n",
        "\n",
        "```\n",
        "Purpose: executes a specified function for each of item of an iterable\n",
        "usage:Returns an iterator, which can be converted to a list or tuple\n",
        "```\n",
        "\n"
      ],
      "metadata": {
        "id": "YyDfM-TgMmwX"
      }
    },
    {
      "cell_type": "code",
      "source": [
        "def square(n):\n",
        "  return n*n"
      ],
      "metadata": {
        "id": "D4tpzWx3MkeT"
      },
      "execution_count": 150,
      "outputs": []
    },
    {
      "cell_type": "code",
      "source": [
        "num =[1,2,3,4,5]\n",
        "list(map(square, num))"
      ],
      "metadata": {
        "colab": {
          "base_uri": "https://localhost:8080/"
        },
        "id": "mBbpkwf3PHL7",
        "outputId": "08f9bdde-9fa5-4ca7-8c92-3982e2cd21f3"
      },
      "execution_count": 151,
      "outputs": [
        {
          "output_type": "execute_result",
          "data": {
            "text/plain": [
              "[1, 4, 9, 16, 25]"
            ]
          },
          "metadata": {},
          "execution_count": 151
        }
      ]
    },
    {
      "cell_type": "markdown",
      "source": [
        "10. What is the difference between `map()`, `reduce()`, and `filter()` functions in Python?\n",
        "\n",
        "\n",
        "\n",
        "```\n",
        "map(): It converts every element in an iterable\n",
        "filter(): filters elements when return false\n",
        "reduce(): repeatedly applies a function to combine elements into a single value.\n",
        "```\n",
        "\n"
      ],
      "metadata": {
        "id": "Otd8RokqQxJn"
      }
    },
    {
      "cell_type": "code",
      "source": [
        "#maps\n",
        "def add(n):\n",
        "  return n**2\n",
        "n=[1,2,3,4]\n",
        "s = map(add,n)\n"
      ],
      "metadata": {
        "id": "3mPIZdxvRywf"
      },
      "execution_count": 154,
      "outputs": []
    },
    {
      "cell_type": "code",
      "source": [
        "print(list(s))"
      ],
      "metadata": {
        "colab": {
          "base_uri": "https://localhost:8080/"
        },
        "id": "TqKsy_TGSap-",
        "outputId": "8e608400-d879-42f5-ef39-2348bacd9782"
      },
      "execution_count": 155,
      "outputs": [
        {
          "output_type": "stream",
          "name": "stdout",
          "text": [
            "[1, 4, 9, 16]\n"
          ]
        }
      ]
    },
    {
      "cell_type": "code",
      "source": [
        "#filter\n",
        "s=\"abhishek\"\n",
        "lsi= filter(lambda s:s not in vowels , s)"
      ],
      "metadata": {
        "id": "9gj9XATDSgQI"
      },
      "execution_count": 157,
      "outputs": []
    },
    {
      "cell_type": "code",
      "source": [
        "\"\".join(lsi)"
      ],
      "metadata": {
        "colab": {
          "base_uri": "https://localhost:8080/",
          "height": 36
        },
        "id": "hKip-l3WS2x-",
        "outputId": "76394cbf-1571-44ee-e5f1-ae55f294a57f"
      },
      "execution_count": 158,
      "outputs": [
        {
          "output_type": "execute_result",
          "data": {
            "text/plain": [
              "'bhshk'"
            ],
            "application/vnd.google.colaboratory.intrinsic+json": {
              "type": "string"
            }
          },
          "metadata": {},
          "execution_count": 158
        }
      ]
    },
    {
      "cell_type": "code",
      "source": [
        "#reduce\n",
        "from functools import reduce\n",
        "n=[1,2,3,4,5]\n",
        "reduce (lambda x,y : x+y , n)"
      ],
      "metadata": {
        "colab": {
          "base_uri": "https://localhost:8080/"
        },
        "id": "A8S8pvpjTZO5",
        "outputId": "8732aa78-bcdf-400c-efed-7349414a905a"
      },
      "execution_count": 171,
      "outputs": [
        {
          "output_type": "execute_result",
          "data": {
            "text/plain": [
              "15"
            ]
          },
          "metadata": {},
          "execution_count": 171
        }
      ]
    },
    {
      "cell_type": "markdown",
      "source": [
        "11. Using pen & Paper write the internal mechanism for sum operation using  reduce function on this given\n",
        "list:[47,11,42,13];"
      ],
      "metadata": {
        "id": "5DtAjLl8VBcX"
      }
    },
    {
      "cell_type": "markdown",
      "source": [
        "![WhatsApp Image 2025-07-30 at 22.49.46_8784766d.jpg](data:image/jpeg;base64,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)"
      ],
      "metadata": {
        "id": "6RzLCG8JVEyR"
      }
    },
    {
      "cell_type": "code",
      "source": [],
      "metadata": {
        "id": "1KqeYYefWVqh"
      },
      "execution_count": null,
      "outputs": []
    },
    {
      "cell_type": "markdown",
      "source": [
        "# Practical questions"
      ],
      "metadata": {
        "id": "qYaL3emPoZd8"
      }
    },
    {
      "cell_type": "markdown",
      "source": [
        "1. Write a Python function that takes a list of numbers as input and returns the sum of all even numbers in\n",
        "the list."
      ],
      "metadata": {
        "id": "W93MrUyfop36"
      }
    },
    {
      "cell_type": "code",
      "source": [
        "def sum_even(l1):\n",
        "  sum=0\n",
        "  for i in l1:\n",
        "    if i%2 == 0:\n",
        "      sum+=i\n",
        "  return sum\n"
      ],
      "metadata": {
        "id": "D_6NKRLzou3b"
      },
      "execution_count": 19,
      "outputs": []
    },
    {
      "cell_type": "code",
      "source": [
        "input_string=input(\"Enter list of numbers separated by space \")\n",
        "l1= [ int(x) for x in input_string.split()]\n",
        "sum_even(l1)"
      ],
      "metadata": {
        "colab": {
          "base_uri": "https://localhost:8080/"
        },
        "id": "iMg0ngVnpwC_",
        "outputId": "74df6551-e35a-40ad-e7e0-33c9cbfc3528"
      },
      "execution_count": 22,
      "outputs": [
        {
          "name": "stdout",
          "output_type": "stream",
          "text": [
            "Enter list of numbers separated by space 8 5 6 2\n"
          ]
        },
        {
          "output_type": "execute_result",
          "data": {
            "text/plain": [
              "16"
            ]
          },
          "metadata": {},
          "execution_count": 22
        }
      ]
    },
    {
      "cell_type": "markdown",
      "source": [
        "2. Create a Python function that accepts a string and returns the reverse of that string."
      ],
      "metadata": {
        "id": "uPCo4yS8wUDM"
      }
    },
    {
      "cell_type": "code",
      "source": [
        "def reverse(s1):\n",
        "  print(s1[::-1])\n"
      ],
      "metadata": {
        "id": "D0NUemY3wgzu"
      },
      "execution_count": 23,
      "outputs": []
    },
    {
      "cell_type": "code",
      "source": [
        "s1=input(\"Enter a word to reverse\")\n",
        "reverse(s1)"
      ],
      "metadata": {
        "colab": {
          "base_uri": "https://localhost:8080/"
        },
        "id": "_VSKNFtexGI7",
        "outputId": "537465ea-42ef-49ec-f92c-f90abd71e482"
      },
      "execution_count": 25,
      "outputs": [
        {
          "output_type": "stream",
          "name": "stdout",
          "text": [
            "Enter a word to reversemy name is abhishek\n",
            "kehsihba si eman ym\n"
          ]
        }
      ]
    },
    {
      "cell_type": "markdown",
      "source": [
        "\n",
        "\n",
        "```\n",
        "3. Implement a Python function that takes a list of integers and returns a new\n",
        "list containing the squares of each number.\n",
        "```\n",
        "\n"
      ],
      "metadata": {
        "id": "Wg7BpbAuxQxQ"
      }
    },
    {
      "cell_type": "code",
      "source": [
        "def square(l2):\n",
        "  return [x**2 for x in l2]"
      ],
      "metadata": {
        "id": "VDK31FcOxebo"
      },
      "execution_count": 26,
      "outputs": []
    },
    {
      "cell_type": "code",
      "source": [
        "input_string=input(\"Enter your list with spaces in between numbers \")\n",
        "l2= [int(x) for x in input_string.split()]\n",
        "square(l2)"
      ],
      "metadata": {
        "colab": {
          "base_uri": "https://localhost:8080/"
        },
        "id": "PkXhDTFXyagv",
        "outputId": "59ef2698-a3c3-4dd9-d558-9191c4002673"
      },
      "execution_count": 27,
      "outputs": [
        {
          "name": "stdout",
          "output_type": "stream",
          "text": [
            "Enter your list with spaces in between numbers 3 45 32 2 4 5\n"
          ]
        },
        {
          "output_type": "execute_result",
          "data": {
            "text/plain": [
              "[9, 2025, 1024, 4, 16, 25]"
            ]
          },
          "metadata": {},
          "execution_count": 27
        }
      ]
    },
    {
      "cell_type": "markdown",
      "source": [
        "\n",
        "\n",
        "```\n",
        "4. Write a Python function that checks if a given number is prime or not from 1 to 200\n",
        "```\n",
        "\n"
      ],
      "metadata": {
        "id": "jJ1d3BikzGnK"
      }
    },
    {
      "cell_type": "code",
      "source": [
        "def prime(ran):\n",
        "  prime_list=[]\n",
        "  for i in ran:\n",
        "    count=0\n",
        "    for j in range(2,i+1):\n",
        "      if i%j==0:\n",
        "        count+=1\n",
        "    if count==1:\n",
        "      prime_list.append(i)\n",
        "  return prime_list"
      ],
      "metadata": {
        "id": "u2I1LJvQzwm3"
      },
      "execution_count": 43,
      "outputs": []
    },
    {
      "cell_type": "code",
      "source": [
        "prime(range(1,200))"
      ],
      "metadata": {
        "colab": {
          "base_uri": "https://localhost:8080/"
        },
        "collapsed": true,
        "id": "Nx3qFUn01ngC",
        "outputId": "0420dff7-d39b-45ec-d313-34c13f1bfd5a"
      },
      "execution_count": 45,
      "outputs": [
        {
          "output_type": "execute_result",
          "data": {
            "text/plain": [
              "[2,\n",
              " 3,\n",
              " 5,\n",
              " 7,\n",
              " 11,\n",
              " 13,\n",
              " 17,\n",
              " 19,\n",
              " 23,\n",
              " 29,\n",
              " 31,\n",
              " 37,\n",
              " 41,\n",
              " 43,\n",
              " 47,\n",
              " 53,\n",
              " 59,\n",
              " 61,\n",
              " 67,\n",
              " 71,\n",
              " 73,\n",
              " 79,\n",
              " 83,\n",
              " 89,\n",
              " 97,\n",
              " 101,\n",
              " 103,\n",
              " 107,\n",
              " 109,\n",
              " 113,\n",
              " 127,\n",
              " 131,\n",
              " 137,\n",
              " 139,\n",
              " 149,\n",
              " 151,\n",
              " 157,\n",
              " 163,\n",
              " 167,\n",
              " 173,\n",
              " 179,\n",
              " 181,\n",
              " 191,\n",
              " 193,\n",
              " 197,\n",
              " 199]"
            ]
          },
          "metadata": {},
          "execution_count": 45
        }
      ]
    },
    {
      "cell_type": "markdown",
      "source": [
        "\n",
        "\n",
        "```\n",
        "5. Create an iterator class in Python that generates the Fibonacci sequence\n",
        "up to a specified number of terms.\n",
        "```\n",
        "\n"
      ],
      "metadata": {
        "id": "iQ_FpKTH2jLb"
      }
    },
    {
      "cell_type": "code",
      "source": [
        "def fib(n):\n",
        "  fib_sequence=[]\n",
        "  n1=0\n",
        "  n2=1\n",
        "  for i in range(n):\n",
        "    if i==0:\n",
        "      fib_sequence.append(0)\n",
        "    elif i==1:\n",
        "      fib_sequence.append(1)\n",
        "    else:\n",
        "      next_fib = n1+n2\n",
        "      fib_sequence.append(next_fib)\n",
        "      n1=n2\n",
        "      n2=next_fib\n",
        "  a=iter(fib_sequence)\n",
        "  return a\n",
        "\n"
      ],
      "metadata": {
        "id": "tda1aLFsSRN4"
      },
      "execution_count": 39,
      "outputs": []
    },
    {
      "cell_type": "code",
      "source": [
        "fib_s = fib(5)"
      ],
      "metadata": {
        "id": "MnFx6bjKCNDh"
      },
      "execution_count": 40,
      "outputs": []
    },
    {
      "cell_type": "code",
      "source": [
        "fib_s"
      ],
      "metadata": {
        "colab": {
          "base_uri": "https://localhost:8080/"
        },
        "id": "FAqi7ORACOpr",
        "outputId": "dd0a9236-d3c1-4c78-e106-ea087ff0f99f"
      },
      "execution_count": 41,
      "outputs": [
        {
          "output_type": "execute_result",
          "data": {
            "text/plain": [
              "<list_iterator at 0x7975ab4ee0b0>"
            ]
          },
          "metadata": {},
          "execution_count": 41
        }
      ]
    },
    {
      "cell_type": "code",
      "source": [
        "next(fib_s)"
      ],
      "metadata": {
        "colab": {
          "base_uri": "https://localhost:8080/"
        },
        "id": "HQmwZZ7DDAs_",
        "outputId": "f35c2ad8-c5a0-47b3-cec0-dbeb75d147b5"
      },
      "execution_count": 42,
      "outputs": [
        {
          "output_type": "execute_result",
          "data": {
            "text/plain": [
              "0"
            ]
          },
          "metadata": {},
          "execution_count": 42
        }
      ]
    },
    {
      "cell_type": "code",
      "source": [
        "next(fib_s)"
      ],
      "metadata": {
        "colab": {
          "base_uri": "https://localhost:8080/"
        },
        "id": "N7f74Qg2DUrP",
        "outputId": "08f507f8-0963-48e2-bacb-954a4bcc3893"
      },
      "execution_count": 24,
      "outputs": [
        {
          "output_type": "execute_result",
          "data": {
            "text/plain": [
              "1"
            ]
          },
          "metadata": {},
          "execution_count": 24
        }
      ]
    },
    {
      "cell_type": "markdown",
      "source": [
        "\n",
        "```\n",
        "6. Write a generator function in Python that yields the powers of 2 up to a given exponent.\n",
        "```\n",
        "\n",
        "\n",
        "\n"
      ],
      "metadata": {
        "id": "8JAlsDXqDXhn"
      }
    },
    {
      "cell_type": "code",
      "source": [
        "def power(n):\n",
        "  for i in range(1,n+1):\n",
        "    yield 2**i\n"
      ],
      "metadata": {
        "id": "e1Ifp-hED6IO"
      },
      "execution_count": 51,
      "outputs": []
    },
    {
      "cell_type": "code",
      "source": [
        "gen=power(5)"
      ],
      "metadata": {
        "id": "ElPgdxogGgds"
      },
      "execution_count": 52,
      "outputs": []
    },
    {
      "cell_type": "code",
      "source": [
        "next(gen)"
      ],
      "metadata": {
        "colab": {
          "base_uri": "https://localhost:8080/"
        },
        "id": "j7W7iCXUGi4F",
        "outputId": "412ebde9-9ab1-46ad-c8b8-35b5d69a598b"
      },
      "execution_count": 53,
      "outputs": [
        {
          "output_type": "execute_result",
          "data": {
            "text/plain": [
              "2"
            ]
          },
          "metadata": {},
          "execution_count": 53
        }
      ]
    },
    {
      "cell_type": "code",
      "source": [
        "next(gen)"
      ],
      "metadata": {
        "colab": {
          "base_uri": "https://localhost:8080/"
        },
        "id": "m4HQMGStGrCu",
        "outputId": "3ddc36c5-b983-4e46-f821-a1bbde0deef5"
      },
      "execution_count": 54,
      "outputs": [
        {
          "output_type": "execute_result",
          "data": {
            "text/plain": [
              "4"
            ]
          },
          "metadata": {},
          "execution_count": 54
        }
      ]
    },
    {
      "cell_type": "code",
      "source": [
        "next(gen)"
      ],
      "metadata": {
        "colab": {
          "base_uri": "https://localhost:8080/"
        },
        "id": "6oWOA1l4Gs3W",
        "outputId": "4184d3ad-d564-4099-f314-610e7f269ab4"
      },
      "execution_count": 55,
      "outputs": [
        {
          "output_type": "execute_result",
          "data": {
            "text/plain": [
              "8"
            ]
          },
          "metadata": {},
          "execution_count": 55
        }
      ]
    },
    {
      "cell_type": "code",
      "source": [
        "next(gen)"
      ],
      "metadata": {
        "colab": {
          "base_uri": "https://localhost:8080/"
        },
        "id": "2eoIoOLoGt8G",
        "outputId": "c2c46cf6-9540-4de6-e756-1d0fc6f161dd"
      },
      "execution_count": 56,
      "outputs": [
        {
          "output_type": "execute_result",
          "data": {
            "text/plain": [
              "16"
            ]
          },
          "metadata": {},
          "execution_count": 56
        }
      ]
    },
    {
      "cell_type": "code",
      "source": [
        "next(gen)"
      ],
      "metadata": {
        "colab": {
          "base_uri": "https://localhost:8080/"
        },
        "id": "9VfWlUPwGvTx",
        "outputId": "ef43753a-26a5-4f11-88c1-aaaa73d0d79d"
      },
      "execution_count": 57,
      "outputs": [
        {
          "output_type": "execute_result",
          "data": {
            "text/plain": [
              "32"
            ]
          },
          "metadata": {},
          "execution_count": 57
        }
      ]
    },
    {
      "cell_type": "markdown",
      "source": [
        "\n",
        "\n",
        "```\n",
        "7. Implement a generator function that reads a file line by line and yields each line as\n",
        "a string.\n",
        "```\n",
        "\n"
      ],
      "metadata": {
        "id": "h-XmwMoTGwW7"
      }
    },
    {
      "cell_type": "markdown",
      "source": [
        "\n",
        "\n",
        "```\n",
        "not taught\n",
        "```\n",
        "\n"
      ],
      "metadata": {
        "id": "iaoqLNjEg34P"
      }
    },
    {
      "cell_type": "markdown",
      "source": [
        "\n",
        "```\n",
        "8. Use a lambda function in Python to sort a list of tuples based on the second element\n",
        "of each tuple.\n",
        "```\n",
        "\n"
      ],
      "metadata": {
        "id": "boNoHiw4G_cj"
      }
    },
    {
      "cell_type": "code",
      "source": [
        "list_of_tuples = [(2, 3, 4), (6, 7, 8), (1, 2, 5), (9, 1, 3)]\n",
        "sorted_list = sorted(list_of_tuples, key=lambda item: item[1])\n",
        "display(sorted_list)"
      ],
      "metadata": {
        "colab": {
          "base_uri": "https://localhost:8080/",
          "height": 35
        },
        "id": "pRKI0vWwE5Xu",
        "outputId": "c0da0fa9-8193-4f41-f0c3-b27a1cb52a3c"
      },
      "execution_count": 21,
      "outputs": [
        {
          "output_type": "display_data",
          "data": {
            "text/plain": [
              "[(9, 1, 3), (1, 2, 5), (2, 3, 4), (6, 7, 8)]"
            ]
          },
          "metadata": {}
        }
      ]
    },
    {
      "cell_type": "markdown",
      "source": [
        "\n",
        "\n",
        "```\n",
        "9. Write a Python program that uses `map()` to convert a list of temperatures from\n",
        "Celsius to Fahrenheit.\n",
        "```\n",
        "\n"
      ],
      "metadata": {
        "id": "MPFnFKn_KgP4"
      }
    },
    {
      "cell_type": "code",
      "source": [
        "def cel_to_fah(n):\n",
        "  f=[]\n",
        "  for c in n:\n",
        "    return\n"
      ],
      "metadata": {
        "id": "RBDgrYOyfGQ4"
      },
      "execution_count": 49,
      "outputs": []
    },
    {
      "cell_type": "code",
      "source": [
        "n=[34, 56, 32, 56]\n",
        "list(map(lambda i:(i*(9/5) + 32),n))\n",
        "\n"
      ],
      "metadata": {
        "colab": {
          "base_uri": "https://localhost:8080/"
        },
        "id": "Xt7YVEBUgIJ1",
        "outputId": "b337994f-5cb8-44fa-9b71-a801d420630f"
      },
      "execution_count": 56,
      "outputs": [
        {
          "output_type": "execute_result",
          "data": {
            "text/plain": [
              "[93.2, 132.8, 89.6, 132.8]"
            ]
          },
          "metadata": {},
          "execution_count": 56
        }
      ]
    },
    {
      "cell_type": "markdown",
      "source": [
        "\n",
        "\n",
        "```\n",
        "10. Create a Python program that uses `filter()` to remove all the vowels from a given string.\n",
        "```\n",
        "\n"
      ],
      "metadata": {
        "id": "M-22eeQkgVuS"
      }
    },
    {
      "cell_type": "code",
      "source": [
        "s=\"abhishek\"\n",
        "vowels=\"AEIOUaeiou\"\n",
        "filtered= \"\".join((filter(lambda i:i not in vowels,s)))\n",
        "print(filtered)"
      ],
      "metadata": {
        "colab": {
          "base_uri": "https://localhost:8080/"
        },
        "id": "Qs4WpIc8jfIN",
        "outputId": "4afbda0a-33ff-4690-b05f-0204a66db69b"
      },
      "execution_count": 78,
      "outputs": [
        {
          "output_type": "stream",
          "name": "stdout",
          "text": [
            "bhshk\n"
          ]
        }
      ]
    },
    {
      "cell_type": "markdown",
      "source": [
        "11) Imagine an accounting routine used in a book shop. It works on a list with sublists, which look like this:\n",
        "![Screenshot 2025-07-30 225925.png](data:image/png;base64,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)\n",
        "\n",
        "Write a Python program, which returns a list with 2-tuples. Each tuple consists of the order number and the\n",
        "product of the price per item and the quantity. The product should be increased by 10,- € if the value of the\n",
        "order is smaller than 100,00 €.\n",
        "\n",
        "Write a Python program using lambda and map."
      ],
      "metadata": {
        "id": "L2eAb5LbsNqP"
      }
    },
    {
      "cell_type": "code",
      "source": [],
      "metadata": {
        "id": "bHz2u8iJYlIW"
      },
      "execution_count": null,
      "outputs": []
    },
    {
      "cell_type": "code",
      "source": [
        "n=[(34578,4*40.95),(98762, 5*56.80),(77226,3*32.95), (88112,3*24.99)]\n",
        "n"
      ],
      "metadata": {
        "colab": {
          "base_uri": "https://localhost:8080/"
        },
        "id": "GZykTSIMZ9C8",
        "outputId": "4a98a574-3dd1-47d1-80e2-6adfa096f6d7"
      },
      "execution_count": 180,
      "outputs": [
        {
          "output_type": "execute_result",
          "data": {
            "text/plain": [
              "[(34578, 163.8), (98762, 284.0), (77226, 98.85000000000001), (88112, 74.97)]"
            ]
          },
          "metadata": {},
          "execution_count": 180
        }
      ]
    },
    {
      "cell_type": "code",
      "source": [
        "p_orders=list(map(lambda order: (order[0],order[1]+10 if order[1]<100 else order[1]),n))"
      ],
      "metadata": {
        "id": "N7sRg6VlfFPe"
      },
      "execution_count": 178,
      "outputs": []
    },
    {
      "cell_type": "code",
      "source": [
        "print(p_orders)"
      ],
      "metadata": {
        "colab": {
          "base_uri": "https://localhost:8080/"
        },
        "id": "NZVKKWv8gJ7T",
        "outputId": "a14feefc-1826-4552-9815-425ac2bc77f5"
      },
      "execution_count": 179,
      "outputs": [
        {
          "output_type": "stream",
          "name": "stdout",
          "text": [
            "[(34578, 163.8), (98762, 284.0), (77226, 108.85000000000001), (88112, 84.97)]\n"
          ]
        }
      ]
    },
    {
      "cell_type": "code",
      "source": [],
      "metadata": {
        "id": "Lzvg4ccigUQR"
      },
      "execution_count": null,
      "outputs": []
    }
  ]
}